{
  "nbformat": 4,
  "nbformat_minor": 0,
  "metadata": {
    "colab": {
      "provenance": []
    },
    "kernelspec": {
      "name": "python3",
      "display_name": "Python 3"
    },
    "language_info": {
      "name": "python"
    }
  },
  "cells": [
    {
      "cell_type": "code",
      "source": [
        "import pandas as pd"
      ],
      "metadata": {
        "id": "KSWHcGLo4dN7"
      },
      "execution_count": 2,
      "outputs": []
    },
    {
      "cell_type": "code",
      "source": [
        "null = [0]*94"
      ],
      "metadata": {
        "id": "I6uXRlLp4kmT"
      },
      "execution_count": 4,
      "outputs": []
    },
    {
      "cell_type": "code",
      "source": [
        "ten = [10]*44"
      ],
      "metadata": {
        "id": "vXDFoWO15MfH"
      },
      "execution_count": 8,
      "outputs": []
    },
    {
      "cell_type": "code",
      "source": [
        "fifty = [50]*15"
      ],
      "metadata": {
        "id": "rSVuiIFu5ehh"
      },
      "execution_count": 10,
      "outputs": []
    },
    {
      "cell_type": "code",
      "source": [
        "seven = [70]*2"
      ],
      "metadata": {
        "id": "L19OHvtF5qYS"
      },
      "execution_count": 12,
      "outputs": []
    },
    {
      "cell_type": "code",
      "source": [
        "les_100 = [100]*4"
      ],
      "metadata": {
        "id": "RJKkyy3V50jz"
      },
      "execution_count": 16,
      "outputs": []
    },
    {
      "cell_type": "code",
      "source": [
        "more_100 = [110]*8"
      ],
      "metadata": {
        "id": "_6hPVGPr59rZ"
      },
      "execution_count": 18,
      "outputs": []
    },
    {
      "cell_type": "code",
      "source": [
        "gen = null + ten + fifty + seven + les_100 + more_100"
      ],
      "metadata": {
        "id": "R-t_okPN5hEa"
      },
      "execution_count": 19,
      "outputs": []
    },
    {
      "cell_type": "code",
      "source": [
        "thirty = [30]*25"
      ],
      "metadata": {
        "id": "rJCRjJsY72Zy"
      },
      "execution_count": 27,
      "outputs": []
    },
    {
      "cell_type": "code",
      "source": [
        "df = pd.Series(data=gen)"
      ],
      "metadata": {
        "id": "VUmCLtU18uMO"
      },
      "execution_count": 31,
      "outputs": []
    },
    {
      "cell_type": "code",
      "source": [
        "n = len(df)"
      ],
      "metadata": {
        "colab": {
          "base_uri": "https://localhost:8080/"
        },
        "id": "tjdYcw_K8FxE",
        "outputId": "bf1a9de2-44e8-4ecc-bb78-39d79c9c0bab"
      },
      "execution_count": 33,
      "outputs": [
        {
          "output_type": "execute_result",
          "data": {
            "text/plain": [
              "192"
            ]
          },
          "metadata": {},
          "execution_count": 33
        }
      ]
    },
    {
      "cell_type": "code",
      "source": [
        "import seaborn as snsm"
      ],
      "metadata": {
        "id": "770M2NS79mTe"
      },
      "execution_count": 34,
      "outputs": []
    },
    {
      "cell_type": "code",
      "source": [
        "sns.histplot(data = gen)"
      ],
      "metadata": {
        "colab": {
          "base_uri": "https://localhost:8080/",
          "height": 447
        },
        "id": "mC5uZpH-_g6H",
        "outputId": "69f95525-1280-4102-8460-68cc39a73d00"
      },
      "execution_count": 35,
      "outputs": [
        {
          "output_type": "execute_result",
          "data": {
            "text/plain": [
              "<Axes: ylabel='Count'>"
            ]
          },
          "metadata": {},
          "execution_count": 35
        },
        {
          "output_type": "display_data",
          "data": {
            "text/plain": [
              "<Figure size 640x480 with 1 Axes>"
            ],
            "image/png": "[encoded data removed]"
          },
          "metadata": {}
        }
      ]
    },
    {
      "cell_type": "code",
      "source": [
        "import random as rn"
      ],
      "metadata": {
        "id": "U_EZYxbMGGwR"
      },
      "execution_count": 37,
      "outputs": []
    },
    {
      "cell_type": "code",
      "source": [
        "df[rn.randint(0, 192)]"
      ],
      "metadata": {
        "colab": {
          "base_uri": "https://localhost:8080/"
        },
        "id": "J5zQYTGdGQAN",
        "outputId": "4f199b72-5df7-42ea-f873-a4582919e245"
      },
      "execution_count": 45,
      "outputs": [
        {
          "output_type": "execute_result",
          "data": {
            "text/plain": [
              "50"
            ]
          },
          "metadata": {},
          "execution_count": 45
        }
      ]
    },
    {
      "cell_type": "code",
      "source": [],
      "metadata": {
        "colab": {
          "base_uri": "https://localhost:8080/"
        },
        "id": "LJ5yG7svlly5",
        "outputId": "c5492ca9-49d2-4778-9236-3e8de5da97a9"
      },
      "execution_count": 62,
      "outputs": [
        {
          "output_type": "execute_result",
          "data": {
            "text/plain": [
              "30"
            ]
          },
          "metadata": {},
          "execution_count": 62
        }
      ]
    },
    {
      "cell_type": "code",
      "source": [],
      "metadata": {
        "colab": {
          "base_uri": "https://localhost:8080/"
        },
        "id": "wIRY0bLGlww5",
        "outputId": "5b3f43fe-36d4-4450-a67e-b692ea19e6ed"
      },
      "execution_count": 55,
      "outputs": [
        {
          "output_type": "execute_result",
          "data": {
            "text/plain": [
              "2.5"
            ]
          },
          "metadata": {},
          "execution_count": 55
        }
      ]
    },
    {
      "cell_type": "code",
      "source": [
        "## Надо взять 100 выборок по 5, 20, 50, 100 значений из совокупности\n",
        "## посчитать среднее и посмотреть на гистрограмму\n",
        "k = 5\n",
        "mean_5 = pd.Series()\n",
        "\n",
        "for i in range(100):\n",
        "    lst = []\n",
        "    for j in range(k):\n",
        "        lst.append(df[rn.randint(0, 191)])\n",
        "    mean_5[i] = sum(lst)/len(lst)\n"
      ],
      "metadata": {
        "id": "0waj6U7l_o06"
      },
      "execution_count": 63,
      "outputs": []
    },
    {
      "cell_type": "code",
      "source": [
        "sns.histplot(data=mean_5)"
      ],
      "metadata": {
        "colab": {
          "base_uri": "https://localhost:8080/",
          "height": 447
        },
        "id": "ciVmjHCcqVsT",
        "outputId": "32934268-827f-4c11-d7f9-f4b4ea76452a"
      },
      "execution_count": 64,
      "outputs": [
        {
          "output_type": "execute_result",
          "data": {
            "text/plain": [
              "<Axes: ylabel='Count'>"
            ]
          },
          "metadata": {},
          "execution_count": 64
        },
        {
          "output_type": "display_data",
          "data": {
            "text/plain": [
              "<Figure size 640x480 with 1 Axes>"
            ],
            "image/png": "[encoded data removed]"
          },
          "metadata": {}
        }
      ]
    },
    {
      "cell_type": "code",
      "source": [
        "k = 20\n",
        "mean_20 = pd.Series()\n",
        "\n",
        "for i in range(100):\n",
        "    lst = []\n",
        "    for j in range(k):\n",
        "        lst.append(df[rn.randint(0, 191)])\n",
        "    mean_20[i] = sum(lst)/len(lst)"
      ],
      "metadata": {
        "id": "_tiMtm-9qqSh"
      },
      "execution_count": 65,
      "outputs": []
    },
    {
      "cell_type": "code",
      "source": [
        "sns.histplot(data = mean_20)"
      ],
      "metadata": {
        "colab": {
          "base_uri": "https://localhost:8080/",
          "height": 447
        },
        "id": "qEsDGiNYq0AH",
        "outputId": "61554d8c-d6d6-4231-810a-d9f882dd1a2f"
      },
      "execution_count": 66,
      "outputs": [
        {
          "output_type": "execute_result",
          "data": {
            "text/plain": [
              "<Axes: ylabel='Count'>"
            ]
          },
          "metadata": {},
          "execution_count": 66
        },
        {
          "output_type": "display_data",
          "data": {
            "text/plain": [
              "<Figure size 640x480 with 1 Axes>"
            ],
            "image/png": "[encoded data removed]"
          },
          "metadata": {}
        }
      ]
    },
    {
      "cell_type": "code",
      "source": [
        "k = 50\n",
        "mean_50 = pd.Series()\n",
        "\n",
        "for i in range(100):\n",
        "    lst = []\n",
        "    for j in range(k):\n",
        "        lst.append(df[rn.randint(0, 191)])\n",
        "    mean_50[i] = sum(lst)/len(lst)"
      ],
      "metadata": {
        "id": "Tzy2sRccq9-I"
      },
      "execution_count": 67,
      "outputs": []
    },
    {
      "cell_type": "code",
      "source": [
        "sns.histplot(data = mean_50)"
      ],
      "metadata": {
        "colab": {
          "base_uri": "https://localhost:8080/",
          "height": 447
        },
        "id": "W71mjxDErH8f",
        "outputId": "06674383-c894-487c-fdfc-3c5c53567234"
      },
      "execution_count": 68,
      "outputs": [
        {
          "output_type": "execute_result",
          "data": {
            "text/plain": [
              "<Axes: ylabel='Count'>"
            ]
          },
          "metadata": {},
          "execution_count": 68
        },
        {
          "output_type": "display_data",
          "data": {
            "text/plain": [
              "<Figure size 640x480 with 1 Axes>"
            ],
            "image/png": "[encoded data removed]"
          },
          "metadata": {}
        }
      ]
    },
    {
      "cell_type": "code",
      "source": [
        "k = 100\n",
        "mean_100 = pd.Series()\n",
        "\n",
        "for i in range(100):\n",
        "    lst = []\n",
        "    for j in range(k):\n",
        "        lst.append(df[rn.randint(0, 191)])\n",
        "    mean_100[i] = sum(lst)/len(lst)"
      ],
      "metadata": {
        "id": "62BsshHcrZjW"
      },
      "execution_count": 76,
      "outputs": []
    },
    {
      "cell_type": "code",
      "source": [
        "sns.histplot(data = mean_100)"
      ],
      "metadata": {
        "colab": {
          "base_uri": "https://localhost:8080/",
          "height": 447
        },
        "id": "p3t716L5rd-o",
        "outputId": "718a81fc-7233-4e6f-cf3a-146886da37fc"
      },
      "execution_count": 77,
      "outputs": [
        {
          "output_type": "execute_result",
          "data": {
            "text/plain": [
              "<Axes: ylabel='Count'>"
            ]
          },
          "metadata": {},
          "execution_count": 77
        },
        {
          "output_type": "display_data",
          "data": {
            "text/plain": [
              "<Figure size 640x480 with 1 Axes>"
            ],
            "image/png": "[encoded data removed]"
          },
          "metadata": {}
        }
      ]
    },
    {
      "cell_type": "code",
      "source": [
        "k = 193\n",
        "mean_193 = pd.Series()\n",
        "\n",
        "for i in range(5000):\n",
        "    lst = []\n",
        "    for j in range(k):\n",
        "        lst.append(df[rn.randint(0, 191)])\n",
        "    mean_193[i] = sum(lst)/len(lst)"
      ],
      "metadata": {
        "id": "93NynasQrnuE"
      },
      "execution_count": 83,
      "outputs": []
    },
    {
      "cell_type": "code",
      "source": [
        "sns.histplot(data = mean_193)"
      ],
      "metadata": {
        "colab": {
          "base_uri": "https://localhost:8080/",
          "height": 447
        },
        "id": "NCP6fXIlr6tT",
        "outputId": "8f8d1949-ef29-4ed7-e96c-1bb1fbf7b694"
      },
      "execution_count": 84,
      "outputs": [
        {
          "output_type": "execute_result",
          "data": {
            "text/plain": [
              "<Axes: ylabel='Count'>"
            ]
          },
          "metadata": {},
          "execution_count": 84
        },
        {
          "output_type": "display_data",
          "data": {
            "text/plain": [
              "<Figure size 640x480 with 1 Axes>"
            ],
            "image/png": "[encoded data removed]"
          },
          "metadata": {}
        }
      ]
    }
  ]
}